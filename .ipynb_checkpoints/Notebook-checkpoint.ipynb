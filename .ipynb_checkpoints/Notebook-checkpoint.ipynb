{
 "cells": [
  {
   "cell_type": "code",
   "execution_count": 1,
   "metadata": {},
   "outputs": [],
   "source": [
    "import requests\n",
    "import pandas as pd\n",
    "import numpy as np\n",
    "import time\n",
    "import matplotlib.pyplot as plt\n",
    "from datetime import datetime \n",
    "%matplotlib inline"
   ]
  },
  {
   "cell_type": "markdown",
   "metadata": {},
   "source": [
    "# Organização Dados"
   ]
  },
  {
   "cell_type": "markdown",
   "metadata": {},
   "source": [
    "# Carregando dados Site"
   ]
  },
  {
   "cell_type": "markdown",
   "metadata": {},
   "source": [
    "**Criando link com os cnpjs enviandos**"
   ]
  },
  {
   "cell_type": "code",
   "execution_count": 2,
   "metadata": {},
   "outputs": [],
   "source": [
    "linkBase = 'https://www.receitaws.com.br/v1/cnpj/'"
   ]
  },
  {
   "cell_type": "code",
   "execution_count": 3,
   "metadata": {},
   "outputs": [],
   "source": [
    "cnpjs = [16501555000157, 14994237000140, 18727053000174, 13966572000171, 12839955000116, 16569357000125, 16575851000100, 12592831000189]"
   ]
  },
  {
   "cell_type": "code",
   "execution_count": 4,
   "metadata": {},
   "outputs": [],
   "source": [
    "def Criando_links(linkBase,cnpjs):\n",
    "    links = [] \n",
    "    for cnpj in cnpjs:\n",
    "        links.append(linkBase+str(cnpj))\n",
    "    return links"
   ]
  },
  {
   "cell_type": "markdown",
   "metadata": {},
   "source": [
    "**Acessando links**"
   ]
  },
  {
   "cell_type": "code",
   "execution_count": 5,
   "metadata": {},
   "outputs": [],
   "source": [
    "def retirarDados(json):\n",
    "    chaves = json.keys()\n",
    "    removeItens = ['qsa','atividades_secundarias','billing','extra']\n",
    "    jsonQSA = json['qsa']\n",
    "    for item in removeItens:\n",
    "        if item in chaves:\n",
    "            del  json[item]\n",
    "    json['atividade_principal_code'] = json['atividade_principal'][0]['code']\n",
    "    json['atividade_principal'] = json['atividade_principal'][0]['text']\n",
    "    json['abertura'] = datetime.strptime(json['abertura'],'%d/%M/%Y')\n",
    "    print(json['abertura'])\n",
    "    return json,jsonQSA"
   ]
  },
  {
   "cell_type": "code",
   "execution_count": 6,
   "metadata": {},
   "outputs": [],
   "source": [
    "def pegarDadosLink(link):\n",
    "    print('Pegando Dados:',link)\n",
    "    site = requests.get(link)\n",
    "    json = site.json()\n",
    "    jsonEmp,jsonQSA = retirarDados(json)\n",
    "    return jsonEmp,jsonQSA"
   ]
  },
  {
   "cell_type": "code",
   "execution_count": 7,
   "metadata": {},
   "outputs": [],
   "source": [
    "def cria_tabelaQSA(tabelaAtual,qsa,cnpj):\n",
    "    tabelaNova = pd.DataFrame(qsa)\n",
    "    tabelaNova['CNPJ'] = [cnpj]*len(tabelaNova)\n",
    "    tabelaNova =  pd.concat([tabelaAtual,tabelaNova])\n",
    "    return tabelaNova"
   ]
  },
  {
   "cell_type": "code",
   "execution_count": 8,
   "metadata": {},
   "outputs": [],
   "source": [
    "def pegarDadosLista(cnpjs,tempoConsulta=20):\n",
    "    dicionario = {}\n",
    "    dicinoarioQSA = {}\n",
    "    tabelaQSA = pd.DataFrame()\n",
    "    global linkBase\n",
    "    links = Criando_links(linkBase,cnpjs)\n",
    "    print(links)\n",
    "    for i in range(len(links)):\n",
    "        link = links[i]\n",
    "        time.sleep(tempoConsulta)\n",
    "        try:\n",
    "            dados,qsa = pegarDadosLink(link)\n",
    "            dicionario[cnpjs[i]] = dados\n",
    "            tabelaQSA = cria_tabelaQSA(tabelaQSA,qsa,cnpjs[i])\n",
    "        except:\n",
    "            continue\n",
    "            print('Error')\n",
    "        \n",
    "    tabelaCompa = pd.DataFrame(dicionario)\n",
    "    tabelaCompa = tabelaCompa.transpose()\n",
    "    return tabelaCompa,tabelaQSA"
   ]
  },
  {
   "cell_type": "code",
   "execution_count": 9,
   "metadata": {},
   "outputs": [],
   "source": [
    "cnpjs = [16501555000157, 14994237000140, 18727053000174, 13966572000171, 12839955000116, 16569357000125, 16575851000100, 12592831000189]"
   ]
  },
  {
   "cell_type": "code",
   "execution_count": 11,
   "metadata": {},
   "outputs": [
    {
     "name": "stdout",
     "output_type": "stream",
     "text": [
      "['https://www.receitaws.com.br/v1/cnpj/16501555000157', 'https://www.receitaws.com.br/v1/cnpj/14994237000140', 'https://www.receitaws.com.br/v1/cnpj/18727053000174', 'https://www.receitaws.com.br/v1/cnpj/13966572000171', 'https://www.receitaws.com.br/v1/cnpj/12839955000116', 'https://www.receitaws.com.br/v1/cnpj/16569357000125', 'https://www.receitaws.com.br/v1/cnpj/16575851000100', 'https://www.receitaws.com.br/v1/cnpj/12592831000189']\n",
      "Pegando Dados: https://www.receitaws.com.br/v1/cnpj/16501555000157\n",
      "2012-01-22 00:06:00\n",
      "Pegando Dados: https://www.receitaws.com.br/v1/cnpj/14994237000140\n",
      "2012-01-03 00:02:00\n",
      "Pegando Dados: https://www.receitaws.com.br/v1/cnpj/18727053000174\n",
      "Pegando Dados: https://www.receitaws.com.br/v1/cnpj/13966572000171\n",
      "2011-01-06 00:07:00\n",
      "Pegando Dados: https://www.receitaws.com.br/v1/cnpj/12839955000116\n",
      "2010-01-09 00:11:00\n",
      "Pegando Dados: https://www.receitaws.com.br/v1/cnpj/16569357000125\n",
      "2012-01-11 00:07:00\n",
      "Pegando Dados: https://www.receitaws.com.br/v1/cnpj/16575851000100\n",
      "2012-01-06 00:07:00\n",
      "Pegando Dados: https://www.receitaws.com.br/v1/cnpj/12592831000189\n",
      "2010-01-21 00:09:00\n"
     ]
    }
   ],
   "source": [
    "tabelaComp,TabelaQSA = pegarDadosLista(cnpjs)"
   ]
  },
  {
   "cell_type": "code",
   "execution_count": 12,
   "metadata": {},
   "outputs": [
    {
     "data": {
      "text/html": [
       "<div>\n",
       "<style scoped>\n",
       "    .dataframe tbody tr th:only-of-type {\n",
       "        vertical-align: middle;\n",
       "    }\n",
       "\n",
       "    .dataframe tbody tr th {\n",
       "        vertical-align: top;\n",
       "    }\n",
       "\n",
       "    .dataframe thead th {\n",
       "        text-align: right;\n",
       "    }\n",
       "</style>\n",
       "<table border=\"1\" class=\"dataframe\">\n",
       "  <thead>\n",
       "    <tr style=\"text-align: right;\">\n",
       "      <th></th>\n",
       "      <th>abertura</th>\n",
       "      <th>atividade_principal</th>\n",
       "      <th>atividade_principal_code</th>\n",
       "      <th>bairro</th>\n",
       "      <th>capital_social</th>\n",
       "      <th>cep</th>\n",
       "      <th>cnpj</th>\n",
       "      <th>complemento</th>\n",
       "      <th>data_situacao</th>\n",
       "      <th>data_situacao_especial</th>\n",
       "      <th>...</th>\n",
       "      <th>natureza_juridica</th>\n",
       "      <th>nome</th>\n",
       "      <th>numero</th>\n",
       "      <th>situacao</th>\n",
       "      <th>situacao_especial</th>\n",
       "      <th>status</th>\n",
       "      <th>telefone</th>\n",
       "      <th>tipo</th>\n",
       "      <th>uf</th>\n",
       "      <th>ultima_atualizacao</th>\n",
       "    </tr>\n",
       "  </thead>\n",
       "  <tbody>\n",
       "    <tr>\n",
       "      <th>16501555000157</th>\n",
       "      <td>2012-01-22 00:06:00</td>\n",
       "      <td>Outras atividades de serviços prestados princi...</td>\n",
       "      <td>82.99-7-99</td>\n",
       "      <td>VILA OLIMPIA</td>\n",
       "      <td>491792277.61</td>\n",
       "      <td>04.551-010</td>\n",
       "      <td>16.501.555/0001-57</td>\n",
       "      <td>ANDAR 10 CONJ 102 TORRE A</td>\n",
       "      <td>22/06/2012</td>\n",
       "      <td></td>\n",
       "      <td>...</td>\n",
       "      <td>205-4 - Sociedade Anônima Fechada</td>\n",
       "      <td>STONE PAGAMENTOS S.A.</td>\n",
       "      <td>308</td>\n",
       "      <td>ATIVA</td>\n",
       "      <td></td>\n",
       "      <td>OK</td>\n",
       "      <td>(11) 3568-6318</td>\n",
       "      <td>MATRIZ</td>\n",
       "      <td>SP</td>\n",
       "      <td>2018-11-16T13:14:03.749Z</td>\n",
       "    </tr>\n",
       "    <tr>\n",
       "      <th>14994237000140</th>\n",
       "      <td>2012-01-03 00:02:00</td>\n",
       "      <td>Desenvolvimento e licenciamento de programas d...</td>\n",
       "      <td>62.02-3-00</td>\n",
       "      <td>CENTRO</td>\n",
       "      <td>10000.00</td>\n",
       "      <td>20.021-130</td>\n",
       "      <td>14.994.237/0001-40</td>\n",
       "      <td>SALA 0902</td>\n",
       "      <td>03/02/2012</td>\n",
       "      <td></td>\n",
       "      <td>...</td>\n",
       "      <td>205-4 - Sociedade Anônima Fechada</td>\n",
       "      <td>MUNDIPAGG TECNOLOGIA EM PAGAMENTOS S.A.</td>\n",
       "      <td>375</td>\n",
       "      <td>ATIVA</td>\n",
       "      <td></td>\n",
       "      <td>OK</td>\n",
       "      <td>(21) 3553-1230</td>\n",
       "      <td>MATRIZ</td>\n",
       "      <td>RJ</td>\n",
       "      <td>2018-10-18T00:52:11.637Z</td>\n",
       "    </tr>\n",
       "    <tr>\n",
       "      <th>13966572000171</th>\n",
       "      <td>2011-01-06 00:07:00</td>\n",
       "      <td>Desenvolvimento e licenciamento de programas d...</td>\n",
       "      <td>62.02-3-00</td>\n",
       "      <td>VILA OLIMPIA</td>\n",
       "      <td>1117796.00</td>\n",
       "      <td>04.547-006</td>\n",
       "      <td>13.966.572/0001-71</td>\n",
       "      <td>ANDAR 4</td>\n",
       "      <td>06/07/2011</td>\n",
       "      <td></td>\n",
       "      <td>...</td>\n",
       "      <td>205-4 - Sociedade Anônima Fechada</td>\n",
       "      <td>CAPPTA S.A.</td>\n",
       "      <td>1609</td>\n",
       "      <td>ATIVA</td>\n",
       "      <td></td>\n",
       "      <td>OK</td>\n",
       "      <td>(11) 4302-6160</td>\n",
       "      <td>MATRIZ</td>\n",
       "      <td>SP</td>\n",
       "      <td>2018-09-14T16:43:27.377Z</td>\n",
       "    </tr>\n",
       "    <tr>\n",
       "      <th>12839955000116</th>\n",
       "      <td>2010-01-09 00:11:00</td>\n",
       "      <td>Desenvolvimento de programas de computador sob...</td>\n",
       "      <td>62.01-5-01</td>\n",
       "      <td>VILA OLIMPIA</td>\n",
       "      <td>4206983.36</td>\n",
       "      <td>04.547-006</td>\n",
       "      <td>12.839.955/0001-16</td>\n",
       "      <td>ANDAR 3</td>\n",
       "      <td>09/11/2010</td>\n",
       "      <td></td>\n",
       "      <td>...</td>\n",
       "      <td>205-4 - Sociedade Anônima Fechada</td>\n",
       "      <td>EQUALS SOCIEDADE ANONIMA</td>\n",
       "      <td>1609</td>\n",
       "      <td>ATIVA</td>\n",
       "      <td></td>\n",
       "      <td>OK</td>\n",
       "      <td>(11) 2655-0800</td>\n",
       "      <td>MATRIZ</td>\n",
       "      <td>SP</td>\n",
       "      <td>2018-10-09T16:54:32.053Z</td>\n",
       "    </tr>\n",
       "    <tr>\n",
       "      <th>16569357000125</th>\n",
       "      <td>2012-01-11 00:07:00</td>\n",
       "      <td>Desenvolvimento de programas de computador sob...</td>\n",
       "      <td>62.01-5-01</td>\n",
       "      <td>VILA OLIMPIA</td>\n",
       "      <td>38553675.79</td>\n",
       "      <td>04.551-010</td>\n",
       "      <td>16.569.357/0001-25</td>\n",
       "      <td>ANDAR 10 CONJ 101 TORRE A</td>\n",
       "      <td>11/07/2012</td>\n",
       "      <td></td>\n",
       "      <td>...</td>\n",
       "      <td>205-4 - Sociedade Anônima Fechada</td>\n",
       "      <td>BUY4 PROCESSAMENTO DE PAGAMENTOS S.A.</td>\n",
       "      <td>308</td>\n",
       "      <td>ATIVA</td>\n",
       "      <td></td>\n",
       "      <td>OK</td>\n",
       "      <td>(11) 4105-2331</td>\n",
       "      <td>MATRIZ</td>\n",
       "      <td>SP</td>\n",
       "      <td>2018-08-25T07:37:10.867Z</td>\n",
       "    </tr>\n",
       "    <tr>\n",
       "      <th>16575851000100</th>\n",
       "      <td>2012-01-06 00:07:00</td>\n",
       "      <td>Holdings de instituições não-financeiras</td>\n",
       "      <td>64.62-0-00</td>\n",
       "      <td>VILA OLIMPIA</td>\n",
       "      <td>895899621.22</td>\n",
       "      <td>04.551-010</td>\n",
       "      <td>16.575.851/0001-00</td>\n",
       "      <td>ANDAR 11 CONJ 112</td>\n",
       "      <td>06/07/2012</td>\n",
       "      <td></td>\n",
       "      <td>...</td>\n",
       "      <td>205-4 - Sociedade Anônima Fechada</td>\n",
       "      <td>DLP PAGAMENTOS BRASIL S.A.</td>\n",
       "      <td>308</td>\n",
       "      <td>ATIVA</td>\n",
       "      <td></td>\n",
       "      <td>OK</td>\n",
       "      <td>(11) 4105-2331</td>\n",
       "      <td>MATRIZ</td>\n",
       "      <td>SP</td>\n",
       "      <td>2018-09-21T02:35:16.640Z</td>\n",
       "    </tr>\n",
       "    <tr>\n",
       "      <th>12592831000189</th>\n",
       "      <td>2010-01-21 00:09:00</td>\n",
       "      <td>Outras atividades de serviços prestados princi...</td>\n",
       "      <td>82.99-7-99</td>\n",
       "      <td>VILA OLIMPIA</td>\n",
       "      <td>476990302.00</td>\n",
       "      <td>04.551-010</td>\n",
       "      <td>12.592.831/0001-89</td>\n",
       "      <td>ANDAR 10 CONJ 103</td>\n",
       "      <td>21/09/2010</td>\n",
       "      <td></td>\n",
       "      <td>...</td>\n",
       "      <td>205-4 - Sociedade Anônima Fechada</td>\n",
       "      <td>MNLT SOLUCOES DE PAGAMENTO S.A.</td>\n",
       "      <td>308</td>\n",
       "      <td>ATIVA</td>\n",
       "      <td></td>\n",
       "      <td>OK</td>\n",
       "      <td>(11) 3259-0099</td>\n",
       "      <td>MATRIZ</td>\n",
       "      <td>SP</td>\n",
       "      <td>2018-08-22T16:41:04.593Z</td>\n",
       "    </tr>\n",
       "  </tbody>\n",
       "</table>\n",
       "<p>7 rows × 26 columns</p>\n",
       "</div>"
      ],
      "text/plain": [
       "                           abertura  \\\n",
       "16501555000157  2012-01-22 00:06:00   \n",
       "14994237000140  2012-01-03 00:02:00   \n",
       "13966572000171  2011-01-06 00:07:00   \n",
       "12839955000116  2010-01-09 00:11:00   \n",
       "16569357000125  2012-01-11 00:07:00   \n",
       "16575851000100  2012-01-06 00:07:00   \n",
       "12592831000189  2010-01-21 00:09:00   \n",
       "\n",
       "                                              atividade_principal  \\\n",
       "16501555000157  Outras atividades de serviços prestados princi...   \n",
       "14994237000140  Desenvolvimento e licenciamento de programas d...   \n",
       "13966572000171  Desenvolvimento e licenciamento de programas d...   \n",
       "12839955000116  Desenvolvimento de programas de computador sob...   \n",
       "16569357000125  Desenvolvimento de programas de computador sob...   \n",
       "16575851000100           Holdings de instituições não-financeiras   \n",
       "12592831000189  Outras atividades de serviços prestados princi...   \n",
       "\n",
       "               atividade_principal_code        bairro capital_social  \\\n",
       "16501555000157               82.99-7-99  VILA OLIMPIA   491792277.61   \n",
       "14994237000140               62.02-3-00        CENTRO       10000.00   \n",
       "13966572000171               62.02-3-00  VILA OLIMPIA     1117796.00   \n",
       "12839955000116               62.01-5-01  VILA OLIMPIA     4206983.36   \n",
       "16569357000125               62.01-5-01  VILA OLIMPIA    38553675.79   \n",
       "16575851000100               64.62-0-00  VILA OLIMPIA   895899621.22   \n",
       "12592831000189               82.99-7-99  VILA OLIMPIA   476990302.00   \n",
       "\n",
       "                       cep                cnpj                complemento  \\\n",
       "16501555000157  04.551-010  16.501.555/0001-57  ANDAR 10 CONJ 102 TORRE A   \n",
       "14994237000140  20.021-130  14.994.237/0001-40                  SALA 0902   \n",
       "13966572000171  04.547-006  13.966.572/0001-71                    ANDAR 4   \n",
       "12839955000116  04.547-006  12.839.955/0001-16                    ANDAR 3   \n",
       "16569357000125  04.551-010  16.569.357/0001-25  ANDAR 10 CONJ 101 TORRE A   \n",
       "16575851000100  04.551-010  16.575.851/0001-00          ANDAR 11 CONJ 112   \n",
       "12592831000189  04.551-010  12.592.831/0001-89          ANDAR 10 CONJ 103   \n",
       "\n",
       "               data_situacao data_situacao_especial            ...             \\\n",
       "16501555000157    22/06/2012                                   ...              \n",
       "14994237000140    03/02/2012                                   ...              \n",
       "13966572000171    06/07/2011                                   ...              \n",
       "12839955000116    09/11/2010                                   ...              \n",
       "16569357000125    11/07/2012                                   ...              \n",
       "16575851000100    06/07/2012                                   ...              \n",
       "12592831000189    21/09/2010                                   ...              \n",
       "\n",
       "                                natureza_juridica  \\\n",
       "16501555000157  205-4 - Sociedade Anônima Fechada   \n",
       "14994237000140  205-4 - Sociedade Anônima Fechada   \n",
       "13966572000171  205-4 - Sociedade Anônima Fechada   \n",
       "12839955000116  205-4 - Sociedade Anônima Fechada   \n",
       "16569357000125  205-4 - Sociedade Anônima Fechada   \n",
       "16575851000100  205-4 - Sociedade Anônima Fechada   \n",
       "12592831000189  205-4 - Sociedade Anônima Fechada   \n",
       "\n",
       "                                                   nome numero situacao  \\\n",
       "16501555000157                    STONE PAGAMENTOS S.A.    308    ATIVA   \n",
       "14994237000140  MUNDIPAGG TECNOLOGIA EM PAGAMENTOS S.A.    375    ATIVA   \n",
       "13966572000171                              CAPPTA S.A.   1609    ATIVA   \n",
       "12839955000116                 EQUALS SOCIEDADE ANONIMA   1609    ATIVA   \n",
       "16569357000125    BUY4 PROCESSAMENTO DE PAGAMENTOS S.A.    308    ATIVA   \n",
       "16575851000100               DLP PAGAMENTOS BRASIL S.A.    308    ATIVA   \n",
       "12592831000189          MNLT SOLUCOES DE PAGAMENTO S.A.    308    ATIVA   \n",
       "\n",
       "               situacao_especial status        telefone    tipo  uf  \\\n",
       "16501555000157                       OK  (11) 3568-6318  MATRIZ  SP   \n",
       "14994237000140                       OK  (21) 3553-1230  MATRIZ  RJ   \n",
       "13966572000171                       OK  (11) 4302-6160  MATRIZ  SP   \n",
       "12839955000116                       OK  (11) 2655-0800  MATRIZ  SP   \n",
       "16569357000125                       OK  (11) 4105-2331  MATRIZ  SP   \n",
       "16575851000100                       OK  (11) 4105-2331  MATRIZ  SP   \n",
       "12592831000189                       OK  (11) 3259-0099  MATRIZ  SP   \n",
       "\n",
       "                      ultima_atualizacao  \n",
       "16501555000157  2018-11-16T13:14:03.749Z  \n",
       "14994237000140  2018-10-18T00:52:11.637Z  \n",
       "13966572000171  2018-09-14T16:43:27.377Z  \n",
       "12839955000116  2018-10-09T16:54:32.053Z  \n",
       "16569357000125  2018-08-25T07:37:10.867Z  \n",
       "16575851000100  2018-09-21T02:35:16.640Z  \n",
       "12592831000189  2018-08-22T16:41:04.593Z  \n",
       "\n",
       "[7 rows x 26 columns]"
      ]
     },
     "execution_count": 12,
     "metadata": {},
     "output_type": "execute_result"
    }
   ],
   "source": [
    "tabelaComp"
   ]
  },
  {
   "cell_type": "code",
   "execution_count": 13,
   "metadata": {},
   "outputs": [
    {
     "data": {
      "text/plain": [
       "Index(['abertura', 'atividade_principal', 'atividade_principal_code', 'bairro',\n",
       "       'capital_social', 'cep', 'cnpj', 'complemento', 'data_situacao',\n",
       "       'data_situacao_especial', 'efr', 'email', 'fantasia', 'logradouro',\n",
       "       'motivo_situacao', 'municipio', 'natureza_juridica', 'nome', 'numero',\n",
       "       'situacao', 'situacao_especial', 'status', 'telefone', 'tipo', 'uf',\n",
       "       'ultima_atualizacao'],\n",
       "      dtype='object')"
      ]
     },
     "execution_count": 13,
     "metadata": {},
     "output_type": "execute_result"
    }
   ],
   "source": [
    "tabelaComp.columns"
   ]
  },
  {
   "cell_type": "code",
   "execution_count": 14,
   "metadata": {},
   "outputs": [
    {
     "data": {
      "text/html": [
       "<div>\n",
       "<style scoped>\n",
       "    .dataframe tbody tr th:only-of-type {\n",
       "        vertical-align: middle;\n",
       "    }\n",
       "\n",
       "    .dataframe tbody tr th {\n",
       "        vertical-align: top;\n",
       "    }\n",
       "\n",
       "    .dataframe thead th {\n",
       "        text-align: right;\n",
       "    }\n",
       "</style>\n",
       "<table border=\"1\" class=\"dataframe\">\n",
       "  <thead>\n",
       "    <tr style=\"text-align: right;\">\n",
       "      <th></th>\n",
       "      <th>nome</th>\n",
       "      <th>qual</th>\n",
       "      <th>CNPJ</th>\n",
       "    </tr>\n",
       "  </thead>\n",
       "  <tbody>\n",
       "    <tr>\n",
       "      <th>0</th>\n",
       "      <td>AUGUSTO BARBOSA ESTELLITA LINS</td>\n",
       "      <td>10-Diretor</td>\n",
       "      <td>16501555000157</td>\n",
       "    </tr>\n",
       "    <tr>\n",
       "      <th>1</th>\n",
       "      <td>THIAGO DOS SANTOS PIAU</td>\n",
       "      <td>16-Presidente</td>\n",
       "      <td>16501555000157</td>\n",
       "    </tr>\n",
       "    <tr>\n",
       "      <th>2</th>\n",
       "      <td>CARLOS ALBERTO BORDINI</td>\n",
       "      <td>10-Diretor</td>\n",
       "      <td>16501555000157</td>\n",
       "    </tr>\n",
       "    <tr>\n",
       "      <th>3</th>\n",
       "      <td>RAFAEL MARTINS PEREIRA</td>\n",
       "      <td>10-Diretor</td>\n",
       "      <td>16501555000157</td>\n",
       "    </tr>\n",
       "    <tr>\n",
       "      <th>4</th>\n",
       "      <td>SANDRA RIBAS BOLFER</td>\n",
       "      <td>10-Diretor</td>\n",
       "      <td>16501555000157</td>\n",
       "    </tr>\n",
       "  </tbody>\n",
       "</table>\n",
       "</div>"
      ],
      "text/plain": [
       "                             nome           qual            CNPJ\n",
       "0  AUGUSTO BARBOSA ESTELLITA LINS     10-Diretor  16501555000157\n",
       "1          THIAGO DOS SANTOS PIAU  16-Presidente  16501555000157\n",
       "2          CARLOS ALBERTO BORDINI     10-Diretor  16501555000157\n",
       "3          RAFAEL MARTINS PEREIRA     10-Diretor  16501555000157\n",
       "4             SANDRA RIBAS BOLFER     10-Diretor  16501555000157"
      ]
     },
     "execution_count": 14,
     "metadata": {},
     "output_type": "execute_result"
    }
   ],
   "source": [
    "TabelaQSA.head()"
   ]
  },
  {
   "cell_type": "markdown",
   "metadata": {},
   "source": [
    "# Escrevendo no excel"
   ]
  },
  {
   "cell_type": "code",
   "execution_count": 15,
   "metadata": {},
   "outputs": [],
   "source": [
    "excel = pd.ExcelWriter('saida.xlsx')"
   ]
  },
  {
   "cell_type": "code",
   "execution_count": 16,
   "metadata": {},
   "outputs": [],
   "source": [
    "TabelaQSA.to_excel(excel,sheet_name='QSA')"
   ]
  },
  {
   "cell_type": "code",
   "execution_count": 17,
   "metadata": {},
   "outputs": [],
   "source": [
    "tabelaComp.to_excel(excel,sheet_name='Companhias')"
   ]
  },
  {
   "cell_type": "code",
   "execution_count": 18,
   "metadata": {},
   "outputs": [],
   "source": [
    "excel.save()"
   ]
  },
  {
   "cell_type": "markdown",
   "metadata": {},
   "source": [
    "# salvando no BD"
   ]
  },
  {
   "cell_type": "code",
   "execution_count": 19,
   "metadata": {},
   "outputs": [],
   "source": [
    "import MySQLdb \n",
    "host = 'db4free.net'\n",
    "database = 'desafiostone'\n",
    "user = 'desafiostone'\n",
    "password = 'stoneQ123'\n",
    "port = 3306\n",
    "\n",
    "#Conectando ao banco\n",
    "con = MySQLdb.connect(host, user, password,port=port)\n",
    "con.select_db(database)\n",
    "cursor = con.cursor()"
   ]
  },
  {
   "cell_type": "code",
   "execution_count": 20,
   "metadata": {},
   "outputs": [],
   "source": [
    "def conectar():\n",
    "    host = 'db4free.net'\n",
    "    database = 'desafiostone'\n",
    "    user = 'desafiostone'\n",
    "    password = 'stoneQ123'\n",
    "    port = 3306\n",
    "    \n",
    "    con = MySQLdb.connect(host, user, password)\n",
    "    con.select_db(database)\n",
    "    cursor = con.cursor()\n",
    "    return con,cursor "
   ]
  },
  {
   "cell_type": "code",
   "execution_count": 21,
   "metadata": {},
   "outputs": [],
   "source": [
    "def criarTabelas():\n",
    "    con,cursor = conectar()\n",
    "    try:\n",
    "        sql = \"CREATE TABLE companhias (\" \\\n",
    "              \" cnpj VARCHAR(20) NOT NULL,\" \\\n",
    "              \" nome VARCHAR(100) NOT NULL,\" \\\n",
    "              \" atividade_principal VARCHAR(100),\" \\\n",
    "              \" data_de_abertura DATETIME ,\" \\\n",
    "              \" capital_social DOUBLE,\" \\\n",
    "              \" bairro VARCHAR(100),\" \\\n",
    "              \" cep VARCHAR(50),\" \\\n",
    "              \" complemento VARCHAR(100),\" \\\n",
    "              \" numero INTEGER,\" \\\n",
    "              \" logradouro VARCHAR(100),\" \\\n",
    "              \" municipio VARCHAR(100),\" \\\n",
    "              \" data_situacao DATETIME ,\" \\\n",
    "              \" natureza_juridica VARCHAR(100),\" \\\n",
    "              \" telefone VARCHAR(20),\" \\\n",
    "              \" tipo VARCHAR(20),\" \\\n",
    "              \" uf VARCHAR(20),\" \\\n",
    "              \" email VARCHAR(100),\"\\\n",
    "              \" fantasia VARCHAR(100),\" \\\n",
    "              \" PRIMARY KEY (cnpj));\"\n",
    "        cursor.execute(sql)\n",
    "\n",
    "        sql = \"CREATE TABLE QSA (\" \\\n",
    "              \" nome VARCHAR(100),\" \\\n",
    "              \" qual VARCHAR(100) NOT NULL,\" \\\n",
    "              \" cnpj VARCHAR(20));\"\n",
    "        cursor.execute(sql)\n",
    "        con.close()\n",
    "    except Exception as  e:\n",
    "        print(\"Error\",e)\n",
    "        con.close()"
   ]
  },
  {
   "cell_type": "code",
   "execution_count": 22,
   "metadata": {},
   "outputs": [],
   "source": [
    "def inserirCompanhia(linha):\n",
    "    con,cursor = conectar()\n",
    "    try:\n",
    "        sql = \"INSERT INTO companhias (cnpj,nome,atividade_principal,data_de_abertura,capital_social)  VALUES (%s,%s,%s,%s,%s)\"\n",
    "        val = (linha['cnpj'], linha['nome'], linha['atividade_principal'], linha['abertura'], linha['capital_social'])\n",
    "        cursor.execute(sql, val)\n",
    "        con.commit()\n",
    "    except  Exception as e:\n",
    "        print('error:', e)\n",
    "    else:\n",
    "        con.close()"
   ]
  },
  {
   "cell_type": "code",
   "execution_count": 23,
   "metadata": {},
   "outputs": [],
   "source": [
    "def inserirQSA(self,linha):\n",
    "    con,cursor = conectar()\n",
    "    try:\n",
    "        sql = \"INSERT INTO QSA (nome,qual,cnpj)  VALUES (%s,%s,%s)\"\n",
    "        val = (linha['nome'], linha['qual'], linha['CNPJ'])\n",
    "        print(val)\n",
    "        cursor.execute(sql, val)\n",
    "        con.commit()\n",
    "    except  Exception as e:\n",
    "        print('error:', e)\n",
    "    else:\n",
    "        con.close()"
   ]
  },
  {
   "cell_type": "code",
   "execution_count": 24,
   "metadata": {},
   "outputs": [],
   "source": [
    "def escreverCompanhias(tabela):\n",
    "    for n_linha in range(len(tabela)):\n",
    "        linha = tabela.iloc[n_linha]\n",
    "        inserirCompanhia(linha)\n",
    "\n",
    "def escreverQSA(tabela):\n",
    "    for n_linha in range(len(tabela)):\n",
    "        linha = tabela.iloc[n_linha]\n",
    "        inserirCompanhia(linha)"
   ]
  },
  {
   "cell_type": "code",
   "execution_count": null,
   "metadata": {},
   "outputs": [],
   "source": [
    "criarTabelas()\n",
    "escreverCompanhias(tabelaComp)\n",
    "escreverQSA(TabelaQSA)"
   ]
  },
  {
   "cell_type": "markdown",
   "metadata": {},
   "source": [
    "# Analizando dados com Pandas"
   ]
  },
  {
   "cell_type": "markdown",
   "metadata": {},
   "source": [
    "**2. Qual o capital social de cada CIA, em valor e % do total?**"
   ]
  },
  {
   "cell_type": "code",
   "execution_count": null,
   "metadata": {},
   "outputs": [],
   "source": [
    "tabelaComp['capital_social']"
   ]
  },
  {
   "cell_type": "markdown",
   "metadata": {},
   "source": [
    "**Grafico**"
   ]
  },
  {
   "cell_type": "code",
   "execution_count": null,
   "metadata": {},
   "outputs": [],
   "source": [
    "plt.figure(figsize=(5,5))\n",
    "plt.pie(tabelaComp['capital_social'],autopct='%1.1f%%',labels=tabelaComp['nome']);\n",
    "plt.legend(bbox_to_anchor=(1.1,0.9))"
   ]
  },
  {
   "cell_type": "code",
   "execution_count": null,
   "metadata": {},
   "outputs": [],
   "source": [
    "import seaborn as sns \n",
    "tabelaComp['capital_social'] =tabelaComp['capital_social'].astype(float)\n",
    "sns.barplot(data = tabelaComp,y='nome',x='capital_social')"
   ]
  },
  {
   "cell_type": "markdown",
   "metadata": {},
   "source": [
    "**3.\tListar os acionistas (QSA) que estão em mais de uma empresa,  apresentando o nome do acionista, a quantidade de empresas que ele é sócio e listar as empresas**"
   ]
  },
  {
   "cell_type": "code",
   "execution_count": null,
   "metadata": {},
   "outputs": [],
   "source": [
    "tabelaQSA2 = TabelaQSA.groupby('nome').count()\n",
    "tabelaQSA2.drop('qual',axis=1,inplace=True)"
   ]
  },
  {
   "cell_type": "code",
   "execution_count": null,
   "metadata": {},
   "outputs": [],
   "source": [
    "tabelaQSA2 = tabelaQSA2[tabelaQSA2['CNPJ'] > 1]\n",
    "tabelaQSA2.sort_values(by='CNPJ',ascending=False)"
   ]
  },
  {
   "cell_type": "code",
   "execution_count": null,
   "metadata": {},
   "outputs": [],
   "source": []
  }
 ],
 "metadata": {
  "kernelspec": {
   "display_name": "Python 3",
   "language": "python",
   "name": "python3"
  },
  "language_info": {
   "codemirror_mode": {
    "name": "ipython",
    "version": 3
   },
   "file_extension": ".py",
   "mimetype": "text/x-python",
   "name": "python",
   "nbconvert_exporter": "python",
   "pygments_lexer": "ipython3",
   "version": "3.7.0"
  }
 },
 "nbformat": 4,
 "nbformat_minor": 2
}
